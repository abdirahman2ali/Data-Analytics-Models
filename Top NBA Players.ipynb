{
 "cells": [
  {
   "cell_type": "code",
   "execution_count": 1,
   "metadata": {},
   "outputs": [
    {
     "name": "stdout",
     "output_type": "stream",
     "text": [
      "Requirement already satisfied: basketball_reference_web_scraper in /Users/abdirahmanali/opt/anaconda3/lib/python3.7/site-packages (4.4.2)\n",
      "Requirement already satisfied: certifi==2018.10.15 in /Users/abdirahmanali/opt/anaconda3/lib/python3.7/site-packages (from basketball_reference_web_scraper) (2018.10.15)\n",
      "Requirement already satisfied: idna==2.7 in /Users/abdirahmanali/opt/anaconda3/lib/python3.7/site-packages (from basketball_reference_web_scraper) (2.7)\n",
      "Requirement already satisfied: lxml==4.2.5 in /Users/abdirahmanali/opt/anaconda3/lib/python3.7/site-packages (from basketball_reference_web_scraper) (4.2.5)\n",
      "Requirement already satisfied: requests==2.20.0 in /Users/abdirahmanali/opt/anaconda3/lib/python3.7/site-packages (from basketball_reference_web_scraper) (2.20.0)\n",
      "Requirement already satisfied: pytz==2018.6 in /Users/abdirahmanali/opt/anaconda3/lib/python3.7/site-packages (from basketball_reference_web_scraper) (2018.6)\n",
      "Requirement already satisfied: chardet==3.0.4 in /Users/abdirahmanali/opt/anaconda3/lib/python3.7/site-packages (from basketball_reference_web_scraper) (3.0.4)\n",
      "Requirement already satisfied: urllib3==1.24.3 in /Users/abdirahmanali/opt/anaconda3/lib/python3.7/site-packages (from basketball_reference_web_scraper) (1.24.3)\n",
      "Note: you may need to restart the kernel to use updated packages.\n"
     ]
    }
   ],
   "source": [
    "pip install basketball_reference_web_scraper"
   ]
  },
  {
   "cell_type": "markdown",
   "metadata": {},
   "source": [
    "## Importing necessary packages and APIs"
   ]
  },
  {
   "cell_type": "code",
   "execution_count": 2,
   "metadata": {},
   "outputs": [],
   "source": [
    "# This imports the client\n",
    "from basketball_reference_web_scraper import client"
   ]
  },
  {
   "cell_type": "code",
   "execution_count": 33,
   "metadata": {},
   "outputs": [],
   "source": [
    "from basketball_reference_web_scraper import client\n",
    "\n",
    "# Get 2017-2018 advanced season statistics for all players\n",
    "data = client.players_advanced_season_totals(season_end_year=2018)\n",
    "\n",
    "# The players_advanced_season_totals method also supports all output behavior previously described\n",
    "\n",
    "\n",
    "from basketball_reference_web_scraper import client\n",
    "\n",
    "# Get 2017-2018 season totals for all players\n",
    "data2 = client.players_season_totals(season_end_year=2018)\n",
    "\n",
    "# The players_season_totals method also supports all output behavior previously described"
   ]
  },
  {
   "cell_type": "code",
   "execution_count": 34,
   "metadata": {},
   "outputs": [],
   "source": [
    "# load the necessary packages\n",
    "import pandas as pd\n",
    "import numpy as np\n",
    "import matplotlib.pyplot as plt"
   ]
  },
  {
   "cell_type": "code",
   "execution_count": 35,
   "metadata": {
    "scrolled": true
   },
   "outputs": [
    {
     "data": {
      "text/html": [
       "<div>\n",
       "<style scoped>\n",
       "    .dataframe tbody tr th:only-of-type {\n",
       "        vertical-align: middle;\n",
       "    }\n",
       "\n",
       "    .dataframe tbody tr th {\n",
       "        vertical-align: top;\n",
       "    }\n",
       "\n",
       "    .dataframe thead th {\n",
       "        text-align: right;\n",
       "    }\n",
       "</style>\n",
       "<table border=\"1\" class=\"dataframe\">\n",
       "  <thead>\n",
       "    <tr style=\"text-align: right;\">\n",
       "      <th></th>\n",
       "      <th>slug</th>\n",
       "      <th>name</th>\n",
       "      <th>positions</th>\n",
       "      <th>age</th>\n",
       "      <th>team</th>\n",
       "      <th>games_played</th>\n",
       "      <th>minutes_played</th>\n",
       "      <th>player_efficiency_rating</th>\n",
       "      <th>true_shooting_percentage</th>\n",
       "      <th>three_point_attempt_rate</th>\n",
       "      <th>...</th>\n",
       "      <th>turnover_percentage</th>\n",
       "      <th>usage_percentage</th>\n",
       "      <th>offensive_win_shares</th>\n",
       "      <th>defensive_win_shares</th>\n",
       "      <th>win_shares</th>\n",
       "      <th>win_shares_per_48_minutes</th>\n",
       "      <th>offensive_box_plus_minus</th>\n",
       "      <th>defensive_box_plus_minus</th>\n",
       "      <th>box_plus_minus</th>\n",
       "      <th>value_over_replacement_player</th>\n",
       "    </tr>\n",
       "  </thead>\n",
       "  <tbody>\n",
       "    <tr>\n",
       "      <td>0</td>\n",
       "      <td>abrinal01</td>\n",
       "      <td>Álex Abrines</td>\n",
       "      <td>[Position.SHOOTING_GUARD]</td>\n",
       "      <td>24</td>\n",
       "      <td>Team.OKLAHOMA_CITY_THUNDER</td>\n",
       "      <td>75</td>\n",
       "      <td>1134</td>\n",
       "      <td>9.0</td>\n",
       "      <td>0.567</td>\n",
       "      <td>0.759</td>\n",
       "      <td>...</td>\n",
       "      <td>7.4</td>\n",
       "      <td>12.7</td>\n",
       "      <td>1.3</td>\n",
       "      <td>1.0</td>\n",
       "      <td>2.2</td>\n",
       "      <td>0.094</td>\n",
       "      <td>-1.9</td>\n",
       "      <td>0.4</td>\n",
       "      <td>-1.5</td>\n",
       "      <td>0.1</td>\n",
       "    </tr>\n",
       "    <tr>\n",
       "      <td>1</td>\n",
       "      <td>acyqu01</td>\n",
       "      <td>Quincy Acy</td>\n",
       "      <td>[Position.POWER_FORWARD]</td>\n",
       "      <td>27</td>\n",
       "      <td>Team.BROOKLYN_NETS</td>\n",
       "      <td>70</td>\n",
       "      <td>1359</td>\n",
       "      <td>8.2</td>\n",
       "      <td>0.525</td>\n",
       "      <td>0.800</td>\n",
       "      <td>...</td>\n",
       "      <td>13.3</td>\n",
       "      <td>14.4</td>\n",
       "      <td>-0.1</td>\n",
       "      <td>1.1</td>\n",
       "      <td>1.0</td>\n",
       "      <td>0.036</td>\n",
       "      <td>-2.6</td>\n",
       "      <td>0.1</td>\n",
       "      <td>-2.5</td>\n",
       "      <td>-0.2</td>\n",
       "    </tr>\n",
       "    <tr>\n",
       "      <td>2</td>\n",
       "      <td>adamsst01</td>\n",
       "      <td>Steven Adams</td>\n",
       "      <td>[Position.CENTER]</td>\n",
       "      <td>24</td>\n",
       "      <td>Team.OKLAHOMA_CITY_THUNDER</td>\n",
       "      <td>76</td>\n",
       "      <td>2487</td>\n",
       "      <td>20.6</td>\n",
       "      <td>0.630</td>\n",
       "      <td>0.003</td>\n",
       "      <td>...</td>\n",
       "      <td>13.3</td>\n",
       "      <td>16.7</td>\n",
       "      <td>6.7</td>\n",
       "      <td>3.0</td>\n",
       "      <td>9.7</td>\n",
       "      <td>0.187</td>\n",
       "      <td>1.7</td>\n",
       "      <td>-0.6</td>\n",
       "      <td>1.1</td>\n",
       "      <td>2.0</td>\n",
       "    </tr>\n",
       "    <tr>\n",
       "      <td>3</td>\n",
       "      <td>adebaba01</td>\n",
       "      <td>Bam Adebayo</td>\n",
       "      <td>[Position.CENTER]</td>\n",
       "      <td>20</td>\n",
       "      <td>Team.MIAMI_HEAT</td>\n",
       "      <td>69</td>\n",
       "      <td>1368</td>\n",
       "      <td>15.7</td>\n",
       "      <td>0.570</td>\n",
       "      <td>0.021</td>\n",
       "      <td>...</td>\n",
       "      <td>13.6</td>\n",
       "      <td>15.9</td>\n",
       "      <td>2.3</td>\n",
       "      <td>1.9</td>\n",
       "      <td>4.2</td>\n",
       "      <td>0.148</td>\n",
       "      <td>-1.1</td>\n",
       "      <td>0.7</td>\n",
       "      <td>-0.4</td>\n",
       "      <td>0.6</td>\n",
       "    </tr>\n",
       "    <tr>\n",
       "      <td>4</td>\n",
       "      <td>afflaar01</td>\n",
       "      <td>Arron Afflalo</td>\n",
       "      <td>[Position.SHOOTING_GUARD]</td>\n",
       "      <td>32</td>\n",
       "      <td>Team.ORLANDO_MAGIC</td>\n",
       "      <td>53</td>\n",
       "      <td>682</td>\n",
       "      <td>5.8</td>\n",
       "      <td>0.516</td>\n",
       "      <td>0.432</td>\n",
       "      <td>...</td>\n",
       "      <td>10.8</td>\n",
       "      <td>12.5</td>\n",
       "      <td>-0.1</td>\n",
       "      <td>0.2</td>\n",
       "      <td>0.1</td>\n",
       "      <td>0.009</td>\n",
       "      <td>-3.8</td>\n",
       "      <td>-1.5</td>\n",
       "      <td>-5.4</td>\n",
       "      <td>-0.6</td>\n",
       "    </tr>\n",
       "  </tbody>\n",
       "</table>\n",
       "<p>5 rows × 27 columns</p>\n",
       "</div>"
      ],
      "text/plain": [
       "        slug           name                  positions  age  \\\n",
       "0  abrinal01   Álex Abrines  [Position.SHOOTING_GUARD]   24   \n",
       "1    acyqu01     Quincy Acy   [Position.POWER_FORWARD]   27   \n",
       "2  adamsst01   Steven Adams          [Position.CENTER]   24   \n",
       "3  adebaba01    Bam Adebayo          [Position.CENTER]   20   \n",
       "4  afflaar01  Arron Afflalo  [Position.SHOOTING_GUARD]   32   \n",
       "\n",
       "                         team  games_played  minutes_played  \\\n",
       "0  Team.OKLAHOMA_CITY_THUNDER            75            1134   \n",
       "1          Team.BROOKLYN_NETS            70            1359   \n",
       "2  Team.OKLAHOMA_CITY_THUNDER            76            2487   \n",
       "3             Team.MIAMI_HEAT            69            1368   \n",
       "4          Team.ORLANDO_MAGIC            53             682   \n",
       "\n",
       "   player_efficiency_rating  true_shooting_percentage  \\\n",
       "0                       9.0                     0.567   \n",
       "1                       8.2                     0.525   \n",
       "2                      20.6                     0.630   \n",
       "3                      15.7                     0.570   \n",
       "4                       5.8                     0.516   \n",
       "\n",
       "   three_point_attempt_rate  ...  turnover_percentage  usage_percentage  \\\n",
       "0                     0.759  ...                  7.4              12.7   \n",
       "1                     0.800  ...                 13.3              14.4   \n",
       "2                     0.003  ...                 13.3              16.7   \n",
       "3                     0.021  ...                 13.6              15.9   \n",
       "4                     0.432  ...                 10.8              12.5   \n",
       "\n",
       "   offensive_win_shares  defensive_win_shares  win_shares  \\\n",
       "0                   1.3                   1.0         2.2   \n",
       "1                  -0.1                   1.1         1.0   \n",
       "2                   6.7                   3.0         9.7   \n",
       "3                   2.3                   1.9         4.2   \n",
       "4                  -0.1                   0.2         0.1   \n",
       "\n",
       "   win_shares_per_48_minutes  offensive_box_plus_minus  \\\n",
       "0                      0.094                      -1.9   \n",
       "1                      0.036                      -2.6   \n",
       "2                      0.187                       1.7   \n",
       "3                      0.148                      -1.1   \n",
       "4                      0.009                      -3.8   \n",
       "\n",
       "   defensive_box_plus_minus  box_plus_minus  value_over_replacement_player  \n",
       "0                       0.4            -1.5                            0.1  \n",
       "1                       0.1            -2.5                           -0.2  \n",
       "2                      -0.6             1.1                            2.0  \n",
       "3                       0.7            -0.4                            0.6  \n",
       "4                      -1.5            -5.4                           -0.6  \n",
       "\n",
       "[5 rows x 27 columns]"
      ]
     },
     "execution_count": 35,
     "metadata": {},
     "output_type": "execute_result"
    }
   ],
   "source": [
    "#Turn numpy array into dataframe\n",
    "nba = pd.DataFrame(data=data, index=None)\n",
    "nba.head(5)"
   ]
  },
  {
   "cell_type": "code",
   "execution_count": 36,
   "metadata": {},
   "outputs": [
    {
     "data": {
      "text/plain": [
       "slug                              object\n",
       "name                              object\n",
       "positions                         object\n",
       "age                                int64\n",
       "team                              object\n",
       "games_played                       int64\n",
       "minutes_played                     int64\n",
       "player_efficiency_rating         float64\n",
       "true_shooting_percentage         float64\n",
       "three_point_attempt_rate         float64\n",
       "free_throw_attempt_rate          float64\n",
       "offensive_rebound_percentage     float64\n",
       "defensive_rebound_percentage     float64\n",
       "total_rebound_percentage         float64\n",
       "assist_percentage                float64\n",
       "steal_percentage                 float64\n",
       "block_percentage                 float64\n",
       "turnover_percentage              float64\n",
       "usage_percentage                 float64\n",
       "offensive_win_shares             float64\n",
       "defensive_win_shares             float64\n",
       "win_shares                       float64\n",
       "win_shares_per_48_minutes        float64\n",
       "offensive_box_plus_minus         float64\n",
       "defensive_box_plus_minus         float64\n",
       "box_plus_minus                   float64\n",
       "value_over_replacement_player    float64\n",
       "dtype: object"
      ]
     },
     "execution_count": 36,
     "metadata": {},
     "output_type": "execute_result"
    }
   ],
   "source": [
    "#Check the data types\n",
    "nba.dtypes"
   ]
  },
  {
   "cell_type": "code",
   "execution_count": 37,
   "metadata": {},
   "outputs": [
    {
     "data": {
      "text/plain": [
       "slug                             0\n",
       "name                             0\n",
       "positions                        0\n",
       "age                              0\n",
       "team                             0\n",
       "games_played                     0\n",
       "minutes_played                   0\n",
       "player_efficiency_rating         0\n",
       "true_shooting_percentage         0\n",
       "three_point_attempt_rate         0\n",
       "free_throw_attempt_rate          0\n",
       "offensive_rebound_percentage     0\n",
       "defensive_rebound_percentage     0\n",
       "total_rebound_percentage         0\n",
       "assist_percentage                0\n",
       "steal_percentage                 0\n",
       "block_percentage                 0\n",
       "turnover_percentage              0\n",
       "usage_percentage                 0\n",
       "offensive_win_shares             0\n",
       "defensive_win_shares             0\n",
       "win_shares                       0\n",
       "win_shares_per_48_minutes        0\n",
       "offensive_box_plus_minus         0\n",
       "defensive_box_plus_minus         0\n",
       "box_plus_minus                   0\n",
       "value_over_replacement_player    0\n",
       "dtype: int64"
      ]
     },
     "execution_count": 37,
     "metadata": {},
     "output_type": "execute_result"
    }
   ],
   "source": [
    "#Check num values\n",
    "nba.isnull().sum()"
   ]
  },
  {
   "cell_type": "markdown",
   "metadata": {},
   "source": [
    "#### Notice that data is clean!"
   ]
  },
  {
   "cell_type": "markdown",
   "metadata": {},
   "source": [
    "### Exploratory Analysis"
   ]
  },
  {
   "cell_type": "markdown",
   "metadata": {},
   "source": [
    "#### Now, I would like to look at some features that interact well with PER statistics. PER has become the most commonly used advanced metric. PER measures a player's per-minute productivity.  \n",
    "\n",
    "#### PER takes into account accomplishments, such as field goals, 3-pointers, assists, rebounds, blocks and steals, and negative results, such as missed shots, turnovers and personal fouls. Top players can generally be found at the top of the list, so its a nice snapshot of where players stand in relationship to one another."
   ]
  },
  {
   "cell_type": "code",
   "execution_count": 38,
   "metadata": {},
   "outputs": [
    {
     "data": {
      "text/html": [
       "<div>\n",
       "<style scoped>\n",
       "    .dataframe tbody tr th:only-of-type {\n",
       "        vertical-align: middle;\n",
       "    }\n",
       "\n",
       "    .dataframe tbody tr th {\n",
       "        vertical-align: top;\n",
       "    }\n",
       "\n",
       "    .dataframe thead th {\n",
       "        text-align: right;\n",
       "    }\n",
       "</style>\n",
       "<table border=\"1\" class=\"dataframe\">\n",
       "  <thead>\n",
       "    <tr style=\"text-align: right;\">\n",
       "      <th></th>\n",
       "      <th>slug</th>\n",
       "      <th>name</th>\n",
       "      <th>positions</th>\n",
       "      <th>age</th>\n",
       "      <th>team</th>\n",
       "      <th>games_played</th>\n",
       "      <th>minutes_played</th>\n",
       "      <th>player_efficiency_rating</th>\n",
       "      <th>true_shooting_percentage</th>\n",
       "      <th>three_point_attempt_rate</th>\n",
       "      <th>...</th>\n",
       "      <th>turnover_percentage</th>\n",
       "      <th>usage_percentage</th>\n",
       "      <th>offensive_win_shares</th>\n",
       "      <th>defensive_win_shares</th>\n",
       "      <th>win_shares</th>\n",
       "      <th>win_shares_per_48_minutes</th>\n",
       "      <th>offensive_box_plus_minus</th>\n",
       "      <th>defensive_box_plus_minus</th>\n",
       "      <th>box_plus_minus</th>\n",
       "      <th>value_over_replacement_player</th>\n",
       "    </tr>\n",
       "  </thead>\n",
       "  <tbody>\n",
       "    <tr>\n",
       "      <td>0</td>\n",
       "      <td>abrinal01</td>\n",
       "      <td>Álex Abrines</td>\n",
       "      <td>[Position.SHOOTING_GUARD]</td>\n",
       "      <td>24</td>\n",
       "      <td>Team.OKLAHOMA_CITY_THUNDER</td>\n",
       "      <td>75</td>\n",
       "      <td>1134</td>\n",
       "      <td>9.0</td>\n",
       "      <td>0.567</td>\n",
       "      <td>0.759</td>\n",
       "      <td>...</td>\n",
       "      <td>7.4</td>\n",
       "      <td>12.7</td>\n",
       "      <td>1.3</td>\n",
       "      <td>1.0</td>\n",
       "      <td>2.2</td>\n",
       "      <td>0.094</td>\n",
       "      <td>-1.9</td>\n",
       "      <td>0.4</td>\n",
       "      <td>-1.5</td>\n",
       "      <td>0.1</td>\n",
       "    </tr>\n",
       "    <tr>\n",
       "      <td>1</td>\n",
       "      <td>acyqu01</td>\n",
       "      <td>Quincy Acy</td>\n",
       "      <td>[Position.POWER_FORWARD]</td>\n",
       "      <td>27</td>\n",
       "      <td>Team.BROOKLYN_NETS</td>\n",
       "      <td>70</td>\n",
       "      <td>1359</td>\n",
       "      <td>8.2</td>\n",
       "      <td>0.525</td>\n",
       "      <td>0.800</td>\n",
       "      <td>...</td>\n",
       "      <td>13.3</td>\n",
       "      <td>14.4</td>\n",
       "      <td>-0.1</td>\n",
       "      <td>1.1</td>\n",
       "      <td>1.0</td>\n",
       "      <td>0.036</td>\n",
       "      <td>-2.6</td>\n",
       "      <td>0.1</td>\n",
       "      <td>-2.5</td>\n",
       "      <td>-0.2</td>\n",
       "    </tr>\n",
       "    <tr>\n",
       "      <td>2</td>\n",
       "      <td>adamsst01</td>\n",
       "      <td>Steven Adams</td>\n",
       "      <td>[Position.CENTER]</td>\n",
       "      <td>24</td>\n",
       "      <td>Team.OKLAHOMA_CITY_THUNDER</td>\n",
       "      <td>76</td>\n",
       "      <td>2487</td>\n",
       "      <td>20.6</td>\n",
       "      <td>0.630</td>\n",
       "      <td>0.003</td>\n",
       "      <td>...</td>\n",
       "      <td>13.3</td>\n",
       "      <td>16.7</td>\n",
       "      <td>6.7</td>\n",
       "      <td>3.0</td>\n",
       "      <td>9.7</td>\n",
       "      <td>0.187</td>\n",
       "      <td>1.7</td>\n",
       "      <td>-0.6</td>\n",
       "      <td>1.1</td>\n",
       "      <td>2.0</td>\n",
       "    </tr>\n",
       "    <tr>\n",
       "      <td>3</td>\n",
       "      <td>adebaba01</td>\n",
       "      <td>Bam Adebayo</td>\n",
       "      <td>[Position.CENTER]</td>\n",
       "      <td>20</td>\n",
       "      <td>Team.MIAMI_HEAT</td>\n",
       "      <td>69</td>\n",
       "      <td>1368</td>\n",
       "      <td>15.7</td>\n",
       "      <td>0.570</td>\n",
       "      <td>0.021</td>\n",
       "      <td>...</td>\n",
       "      <td>13.6</td>\n",
       "      <td>15.9</td>\n",
       "      <td>2.3</td>\n",
       "      <td>1.9</td>\n",
       "      <td>4.2</td>\n",
       "      <td>0.148</td>\n",
       "      <td>-1.1</td>\n",
       "      <td>0.7</td>\n",
       "      <td>-0.4</td>\n",
       "      <td>0.6</td>\n",
       "    </tr>\n",
       "    <tr>\n",
       "      <td>4</td>\n",
       "      <td>afflaar01</td>\n",
       "      <td>Arron Afflalo</td>\n",
       "      <td>[Position.SHOOTING_GUARD]</td>\n",
       "      <td>32</td>\n",
       "      <td>Team.ORLANDO_MAGIC</td>\n",
       "      <td>53</td>\n",
       "      <td>682</td>\n",
       "      <td>5.8</td>\n",
       "      <td>0.516</td>\n",
       "      <td>0.432</td>\n",
       "      <td>...</td>\n",
       "      <td>10.8</td>\n",
       "      <td>12.5</td>\n",
       "      <td>-0.1</td>\n",
       "      <td>0.2</td>\n",
       "      <td>0.1</td>\n",
       "      <td>0.009</td>\n",
       "      <td>-3.8</td>\n",
       "      <td>-1.5</td>\n",
       "      <td>-5.4</td>\n",
       "      <td>-0.6</td>\n",
       "    </tr>\n",
       "  </tbody>\n",
       "</table>\n",
       "<p>5 rows × 27 columns</p>\n",
       "</div>"
      ],
      "text/plain": [
       "        slug           name                  positions  age  \\\n",
       "0  abrinal01   Álex Abrines  [Position.SHOOTING_GUARD]   24   \n",
       "1    acyqu01     Quincy Acy   [Position.POWER_FORWARD]   27   \n",
       "2  adamsst01   Steven Adams          [Position.CENTER]   24   \n",
       "3  adebaba01    Bam Adebayo          [Position.CENTER]   20   \n",
       "4  afflaar01  Arron Afflalo  [Position.SHOOTING_GUARD]   32   \n",
       "\n",
       "                         team  games_played  minutes_played  \\\n",
       "0  Team.OKLAHOMA_CITY_THUNDER            75            1134   \n",
       "1          Team.BROOKLYN_NETS            70            1359   \n",
       "2  Team.OKLAHOMA_CITY_THUNDER            76            2487   \n",
       "3             Team.MIAMI_HEAT            69            1368   \n",
       "4          Team.ORLANDO_MAGIC            53             682   \n",
       "\n",
       "   player_efficiency_rating  true_shooting_percentage  \\\n",
       "0                       9.0                     0.567   \n",
       "1                       8.2                     0.525   \n",
       "2                      20.6                     0.630   \n",
       "3                      15.7                     0.570   \n",
       "4                       5.8                     0.516   \n",
       "\n",
       "   three_point_attempt_rate  ...  turnover_percentage  usage_percentage  \\\n",
       "0                     0.759  ...                  7.4              12.7   \n",
       "1                     0.800  ...                 13.3              14.4   \n",
       "2                     0.003  ...                 13.3              16.7   \n",
       "3                     0.021  ...                 13.6              15.9   \n",
       "4                     0.432  ...                 10.8              12.5   \n",
       "\n",
       "   offensive_win_shares  defensive_win_shares  win_shares  \\\n",
       "0                   1.3                   1.0         2.2   \n",
       "1                  -0.1                   1.1         1.0   \n",
       "2                   6.7                   3.0         9.7   \n",
       "3                   2.3                   1.9         4.2   \n",
       "4                  -0.1                   0.2         0.1   \n",
       "\n",
       "   win_shares_per_48_minutes  offensive_box_plus_minus  \\\n",
       "0                      0.094                      -1.9   \n",
       "1                      0.036                      -2.6   \n",
       "2                      0.187                       1.7   \n",
       "3                      0.148                      -1.1   \n",
       "4                      0.009                      -3.8   \n",
       "\n",
       "   defensive_box_plus_minus  box_plus_minus  value_over_replacement_player  \n",
       "0                       0.4            -1.5                            0.1  \n",
       "1                       0.1            -2.5                           -0.2  \n",
       "2                      -0.6             1.1                            2.0  \n",
       "3                       0.7            -0.4                            0.6  \n",
       "4                      -1.5            -5.4                           -0.6  \n",
       "\n",
       "[5 rows x 27 columns]"
      ]
     },
     "execution_count": 38,
     "metadata": {},
     "output_type": "execute_result"
    }
   ],
   "source": [
    "#Remove players that have not played more than half of the nba games in 2017\n",
    "nbadata = nba[nba['games_played']>42]\n",
    "nbadata.head()"
   ]
  },
  {
   "cell_type": "markdown",
   "metadata": {},
   "source": [
    "nbadata['player_efficiency_rating'].plot.hist()"
   ]
  },
  {
   "cell_type": "code",
   "execution_count": 39,
   "metadata": {},
   "outputs": [
    {
     "data": {
      "text/plain": [
       "NormaltestResult(statistic=23.32911246443724, pvalue=8.593055059089773e-06)"
      ]
     },
     "execution_count": 39,
     "metadata": {},
     "output_type": "execute_result"
    }
   ],
   "source": [
    "from scipy import stats\n",
    "stats.normaltest(nbadata['player_efficiency_rating'])"
   ]
  },
  {
   "cell_type": "markdown",
   "metadata": {},
   "source": [
    "#### It is not normally distribution because it is less than 0.05 p-value. Since the p-value is less than 0.05 we can reject the null hypothesis that there is no difference between mean and conclude that "
   ]
  },
  {
   "cell_type": "markdown",
   "metadata": {},
   "source": [
    "### Lets look at how player efficiency rating interacts with the other variables."
   ]
  },
  {
   "cell_type": "code",
   "execution_count": 40,
   "metadata": {},
   "outputs": [
    {
     "data": {
      "image/png": "[encoded data removed]",
      "text/plain": [
       "<Figure size 432x288 with 1 Axes>"
      ]
     },
     "metadata": {
      "needs_background": "light"
     },
     "output_type": "display_data"
    }
   ],
   "source": [
    "#Interaction with usage rate%\n",
    "plt.scatter(nbadata['player_efficiency_rating'], nbadata['usage_percentage'], alpha=0.4)\n",
    "plt.xlabel('PER')\n",
    "plt.ylabel('USG%')\n",
    "plt.show()"
   ]
  },
  {
   "cell_type": "markdown",
   "metadata": {},
   "source": [
    "#### This shows a positive correlation between Player Efficiency rating (PER) and Usage Rate % (USG%). Player Efficiency Rating (PER) attempts to boil all the players contribution into one single number. Usage rate is the percentage of team plays that is used by one player while he was on the floor."
   ]
  },
  {
   "cell_type": "code",
   "execution_count": 41,
   "metadata": {},
   "outputs": [
    {
     "data": {
      "image/png": "[encoded data removed]",
      "text/plain": [
       "<Figure size 432x288 with 1 Axes>"
      ]
     },
     "metadata": {
      "needs_background": "light"
     },
     "output_type": "display_data"
    }
   ],
   "source": [
    "#Interaction with Win Share\n",
    "plt.scatter(nbadata['player_efficiency_rating'], nbadata['win_shares'], alpha=0.4)\n",
    "plt.xlabel('PER')\n",
    "plt.ylabel('WS')\n",
    "plt.show()"
   ]
  },
  {
   "cell_type": "markdown",
   "metadata": {},
   "source": [
    "#### This shows a slight positive correlation between Player Efficiency rating and Wins Share (WS). Win share is a metric that estimates the number of wins a player produces for his team. "
   ]
  },
  {
   "cell_type": "code",
   "execution_count": 42,
   "metadata": {},
   "outputs": [
    {
     "data": {
      "image/png": "[encoded data removed]",
      "text/plain": [
       "<Figure size 432x288 with 1 Axes>"
      ]
     },
     "metadata": {
      "needs_background": "light"
     },
     "output_type": "display_data"
    }
   ],
   "source": [
    "#Interaction with efficiency differential\n",
    "plt.scatter(nbadata['player_efficiency_rating'], nbadata['box_plus_minus'], alpha=0.4)\n",
    "plt.xlabel('PER')\n",
    "plt.ylabel('BPM')\n",
    "plt.show()"
   ]
  },
  {
   "cell_type": "markdown",
   "metadata": {},
   "source": [
    "#### This shows a slight positive correlation between Player Efficiency rating and box plus minus (BPM). BPM is a metric for evaluating basketball players' quality and contribution to the team. "
   ]
  },
  {
   "cell_type": "code",
   "execution_count": 43,
   "metadata": {},
   "outputs": [
    {
     "data": {
      "text/html": [
       "<div>\n",
       "<style scoped>\n",
       "    .dataframe tbody tr th:only-of-type {\n",
       "        vertical-align: middle;\n",
       "    }\n",
       "\n",
       "    .dataframe tbody tr th {\n",
       "        vertical-align: top;\n",
       "    }\n",
       "\n",
       "    .dataframe thead th {\n",
       "        text-align: right;\n",
       "    }\n",
       "</style>\n",
       "<table border=\"1\" class=\"dataframe\">\n",
       "  <thead>\n",
       "    <tr style=\"text-align: right;\">\n",
       "      <th></th>\n",
       "      <th>name</th>\n",
       "      <th>positions</th>\n",
       "      <th>team</th>\n",
       "      <th>player_efficiency_rating</th>\n",
       "      <th>usage_percentage</th>\n",
       "      <th>win_shares</th>\n",
       "      <th>box_plus_minus</th>\n",
       "      <th>value_over_replacement_player</th>\n",
       "    </tr>\n",
       "  </thead>\n",
       "  <tbody>\n",
       "    <tr>\n",
       "      <td>0</td>\n",
       "      <td>Álex Abrines</td>\n",
       "      <td>[Position.SHOOTING_GUARD]</td>\n",
       "      <td>Team.OKLAHOMA_CITY_THUNDER</td>\n",
       "      <td>9.0</td>\n",
       "      <td>12.7</td>\n",
       "      <td>2.2</td>\n",
       "      <td>-1.5</td>\n",
       "      <td>0.1</td>\n",
       "    </tr>\n",
       "    <tr>\n",
       "      <td>1</td>\n",
       "      <td>Quincy Acy</td>\n",
       "      <td>[Position.POWER_FORWARD]</td>\n",
       "      <td>Team.BROOKLYN_NETS</td>\n",
       "      <td>8.2</td>\n",
       "      <td>14.4</td>\n",
       "      <td>1.0</td>\n",
       "      <td>-2.5</td>\n",
       "      <td>-0.2</td>\n",
       "    </tr>\n",
       "    <tr>\n",
       "      <td>2</td>\n",
       "      <td>Steven Adams</td>\n",
       "      <td>[Position.CENTER]</td>\n",
       "      <td>Team.OKLAHOMA_CITY_THUNDER</td>\n",
       "      <td>20.6</td>\n",
       "      <td>16.7</td>\n",
       "      <td>9.7</td>\n",
       "      <td>1.1</td>\n",
       "      <td>2.0</td>\n",
       "    </tr>\n",
       "    <tr>\n",
       "      <td>3</td>\n",
       "      <td>Bam Adebayo</td>\n",
       "      <td>[Position.CENTER]</td>\n",
       "      <td>Team.MIAMI_HEAT</td>\n",
       "      <td>15.7</td>\n",
       "      <td>15.9</td>\n",
       "      <td>4.2</td>\n",
       "      <td>-0.4</td>\n",
       "      <td>0.6</td>\n",
       "    </tr>\n",
       "    <tr>\n",
       "      <td>4</td>\n",
       "      <td>Arron Afflalo</td>\n",
       "      <td>[Position.SHOOTING_GUARD]</td>\n",
       "      <td>Team.ORLANDO_MAGIC</td>\n",
       "      <td>5.8</td>\n",
       "      <td>12.5</td>\n",
       "      <td>0.1</td>\n",
       "      <td>-5.4</td>\n",
       "      <td>-0.6</td>\n",
       "    </tr>\n",
       "  </tbody>\n",
       "</table>\n",
       "</div>"
      ],
      "text/plain": [
       "            name                  positions                        team  \\\n",
       "0   Álex Abrines  [Position.SHOOTING_GUARD]  Team.OKLAHOMA_CITY_THUNDER   \n",
       "1     Quincy Acy   [Position.POWER_FORWARD]          Team.BROOKLYN_NETS   \n",
       "2   Steven Adams          [Position.CENTER]  Team.OKLAHOMA_CITY_THUNDER   \n",
       "3    Bam Adebayo          [Position.CENTER]             Team.MIAMI_HEAT   \n",
       "4  Arron Afflalo  [Position.SHOOTING_GUARD]          Team.ORLANDO_MAGIC   \n",
       "\n",
       "   player_efficiency_rating  usage_percentage  win_shares  box_plus_minus  \\\n",
       "0                       9.0              12.7         2.2            -1.5   \n",
       "1                       8.2              14.4         1.0            -2.5   \n",
       "2                      20.6              16.7         9.7             1.1   \n",
       "3                      15.7              15.9         4.2            -0.4   \n",
       "4                       5.8              12.5         0.1            -5.4   \n",
       "\n",
       "   value_over_replacement_player  \n",
       "0                            0.1  \n",
       "1                           -0.2  \n",
       "2                            2.0  \n",
       "3                            0.6  \n",
       "4                           -0.6  "
      ]
     },
     "execution_count": 43,
     "metadata": {},
     "output_type": "execute_result"
    }
   ],
   "source": [
    "# I Selected this variables because they are the most important advanced statistics and commonly used.\n",
    "nbaset = nbadata[['name', 'positions', 'team', 'player_efficiency_rating', 'usage_percentage', 'win_shares', 'box_plus_minus', 'value_over_replacement_player']]\n",
    "nbaset.head()"
   ]
  },
  {
   "cell_type": "code",
   "execution_count": 58,
   "metadata": {},
   "outputs": [],
   "source": [
    "nbaset.to_excel('nbaset.xlsx', index=False, header=True)"
   ]
  },
  {
   "cell_type": "code",
   "execution_count": 45,
   "metadata": {},
   "outputs": [],
   "source": [
    "#Rename the columns\n",
    "nbaset = nbaset.rename(columns={'player_efficiency_rating':'PER', 'usage_percentage':'USG%','win_shares':'WS','box_plus_minus':'BPM', 'value_over_replacement_player':'VOR'})"
   ]
  },
  {
   "cell_type": "code",
   "execution_count": 46,
   "metadata": {
    "scrolled": true
   },
   "outputs": [
    {
     "data": {
      "image/png": "[encoded data removed]",
      "text/plain": [
       "<Figure size 720x720 with 2 Axes>"
      ]
     },
     "metadata": {
      "needs_background": "light"
     },
     "output_type": "display_data"
    }
   ],
   "source": [
    "# Obtain figure associated with the plot we want to create\n",
    "dfCorrelation = nbaset.corr('kendall')\n",
    "fig = plt.figure()\n",
    "\n",
    "# Create heatmap subplot  \n",
    "plot_axes = fig.add_subplot(111) \n",
    "heatmap = plot_axes.matshow(dfCorrelation, vmin=-1, vmax=1, cmap='hot')\n",
    "\n",
    "# Add a colorbar on the right based on the heatmap\n",
    "fig.colorbar(heatmap, fraction=0.046, pad=0.04)\n",
    "\n",
    "# Create labels with column names\n",
    "ticks = np.arange(0, dfCorrelation.columns.size, 1) # create a numpy array from 0 to column size\n",
    "plot_axes.set_xticks(ticks)\n",
    "plot_axes.set_yticks(ticks)\n",
    "plot_axes.set_yticklabels(dfCorrelation.columns.values)\n",
    "plot_axes.set_xticklabels(dfCorrelation.columns.values)\n",
    "\n",
    "\n",
    "# Set size\n",
    "fig.set_size_inches((10,10))"
   ]
  },
  {
   "cell_type": "code",
   "execution_count": 69,
   "metadata": {},
   "outputs": [
    {
     "data": {
      "text/html": [
       "<div>\n",
       "<style scoped>\n",
       "    .dataframe tbody tr th:only-of-type {\n",
       "        vertical-align: middle;\n",
       "    }\n",
       "\n",
       "    .dataframe tbody tr th {\n",
       "        vertical-align: top;\n",
       "    }\n",
       "\n",
       "    .dataframe thead th {\n",
       "        text-align: right;\n",
       "    }\n",
       "</style>\n",
       "<table border=\"1\" class=\"dataframe\">\n",
       "  <thead>\n",
       "    <tr style=\"text-align: right;\">\n",
       "      <th></th>\n",
       "      <th>name</th>\n",
       "      <th>All_NBA_Team</th>\n",
       "    </tr>\n",
       "  </thead>\n",
       "  <tbody>\n",
       "    <tr>\n",
       "      <td>0</td>\n",
       "      <td>Álex Abrines</td>\n",
       "      <td>0</td>\n",
       "    </tr>\n",
       "    <tr>\n",
       "      <td>1</td>\n",
       "      <td>Quincy Acy</td>\n",
       "      <td>0</td>\n",
       "    </tr>\n",
       "    <tr>\n",
       "      <td>2</td>\n",
       "      <td>Steven Adams</td>\n",
       "      <td>0</td>\n",
       "    </tr>\n",
       "    <tr>\n",
       "      <td>3</td>\n",
       "      <td>Bam Adebayo</td>\n",
       "      <td>0</td>\n",
       "    </tr>\n",
       "    <tr>\n",
       "      <td>4</td>\n",
       "      <td>Arron Afflalo</td>\n",
       "      <td>0</td>\n",
       "    </tr>\n",
       "  </tbody>\n",
       "</table>\n",
       "</div>"
      ],
      "text/plain": [
       "            name  All_NBA_Team\n",
       "0   Álex Abrines             0\n",
       "1     Quincy Acy             0\n",
       "2   Steven Adams             0\n",
       "3    Bam Adebayo             0\n",
       "4  Arron Afflalo             0"
      ]
     },
     "execution_count": 69,
     "metadata": {},
     "output_type": "execute_result"
    }
   ],
   "source": [
    "# This data shows players in 2017-2018 season that were in the All NBA Team. 0 is a no and 1 as a yes.\n",
    "dataset = pd.read_excel('nbaset.xlsx')\n",
    "dataset.head()"
   ]
  },
  {
   "cell_type": "code",
   "execution_count": 71,
   "metadata": {},
   "outputs": [
    {
     "data": {
      "text/html": [
       "<div>\n",
       "<style scoped>\n",
       "    .dataframe tbody tr th:only-of-type {\n",
       "        vertical-align: middle;\n",
       "    }\n",
       "\n",
       "    .dataframe tbody tr th {\n",
       "        vertical-align: top;\n",
       "    }\n",
       "\n",
       "    .dataframe thead th {\n",
       "        text-align: right;\n",
       "    }\n",
       "</style>\n",
       "<table border=\"1\" class=\"dataframe\">\n",
       "  <thead>\n",
       "    <tr style=\"text-align: right;\">\n",
       "      <th></th>\n",
       "      <th>name</th>\n",
       "      <th>positions</th>\n",
       "      <th>team</th>\n",
       "      <th>PER</th>\n",
       "      <th>USG%</th>\n",
       "      <th>WS</th>\n",
       "      <th>BPM</th>\n",
       "      <th>VOR</th>\n",
       "      <th>All_NBA_Team</th>\n",
       "    </tr>\n",
       "  </thead>\n",
       "  <tbody>\n",
       "    <tr>\n",
       "      <td>0</td>\n",
       "      <td>Álex Abrines</td>\n",
       "      <td>[Position.SHOOTING_GUARD]</td>\n",
       "      <td>Team.OKLAHOMA_CITY_THUNDER</td>\n",
       "      <td>9.0</td>\n",
       "      <td>12.7</td>\n",
       "      <td>2.2</td>\n",
       "      <td>-1.5</td>\n",
       "      <td>0.1</td>\n",
       "      <td>0</td>\n",
       "    </tr>\n",
       "    <tr>\n",
       "      <td>1</td>\n",
       "      <td>Quincy Acy</td>\n",
       "      <td>[Position.POWER_FORWARD]</td>\n",
       "      <td>Team.BROOKLYN_NETS</td>\n",
       "      <td>8.2</td>\n",
       "      <td>14.4</td>\n",
       "      <td>1.0</td>\n",
       "      <td>-2.5</td>\n",
       "      <td>-0.2</td>\n",
       "      <td>0</td>\n",
       "    </tr>\n",
       "    <tr>\n",
       "      <td>2</td>\n",
       "      <td>Steven Adams</td>\n",
       "      <td>[Position.CENTER]</td>\n",
       "      <td>Team.OKLAHOMA_CITY_THUNDER</td>\n",
       "      <td>20.6</td>\n",
       "      <td>16.7</td>\n",
       "      <td>9.7</td>\n",
       "      <td>1.1</td>\n",
       "      <td>2.0</td>\n",
       "      <td>0</td>\n",
       "    </tr>\n",
       "    <tr>\n",
       "      <td>3</td>\n",
       "      <td>Bam Adebayo</td>\n",
       "      <td>[Position.CENTER]</td>\n",
       "      <td>Team.MIAMI_HEAT</td>\n",
       "      <td>15.7</td>\n",
       "      <td>15.9</td>\n",
       "      <td>4.2</td>\n",
       "      <td>-0.4</td>\n",
       "      <td>0.6</td>\n",
       "      <td>0</td>\n",
       "    </tr>\n",
       "    <tr>\n",
       "      <td>4</td>\n",
       "      <td>Arron Afflalo</td>\n",
       "      <td>[Position.SHOOTING_GUARD]</td>\n",
       "      <td>Team.ORLANDO_MAGIC</td>\n",
       "      <td>5.8</td>\n",
       "      <td>12.5</td>\n",
       "      <td>0.1</td>\n",
       "      <td>-5.4</td>\n",
       "      <td>-0.6</td>\n",
       "      <td>0</td>\n",
       "    </tr>\n",
       "  </tbody>\n",
       "</table>\n",
       "</div>"
      ],
      "text/plain": [
       "            name                  positions                        team   PER  \\\n",
       "0   Álex Abrines  [Position.SHOOTING_GUARD]  Team.OKLAHOMA_CITY_THUNDER   9.0   \n",
       "1     Quincy Acy   [Position.POWER_FORWARD]          Team.BROOKLYN_NETS   8.2   \n",
       "2   Steven Adams          [Position.CENTER]  Team.OKLAHOMA_CITY_THUNDER  20.6   \n",
       "3    Bam Adebayo          [Position.CENTER]             Team.MIAMI_HEAT  15.7   \n",
       "4  Arron Afflalo  [Position.SHOOTING_GUARD]          Team.ORLANDO_MAGIC   5.8   \n",
       "\n",
       "   USG%   WS  BPM  VOR  All_NBA_Team  \n",
       "0  12.7  2.2 -1.5  0.1             0  \n",
       "1  14.4  1.0 -2.5 -0.2             0  \n",
       "2  16.7  9.7  1.1  2.0             0  \n",
       "3  15.9  4.2 -0.4  0.6             0  \n",
       "4  12.5  0.1 -5.4 -0.6             0  "
      ]
     },
     "execution_count": 71,
     "metadata": {},
     "output_type": "execute_result"
    }
   ],
   "source": [
    "new_data = pd.merge(nbaset, dataset, on=['name'], how='left')\n",
    "new_data.head()"
   ]
  },
  {
   "cell_type": "code",
   "execution_count": 88,
   "metadata": {},
   "outputs": [
    {
     "name": "stdout",
     "output_type": "stream",
     "text": [
      "The number of All NBA Team players that are in the top 10 are 9\n"
     ]
    }
   ],
   "source": [
    "#Sort Values by PER\n",
    "PER = new_data.sort_values(by=['PER'], ascending=False).head(10)\n",
    "PER_new = PER[PER['All_NBA_Team'] == 1].shape[0]\n",
    "print('The number of All NBA Team players that are in the top 10 are ' + str(PER_new))"
   ]
  },
  {
   "cell_type": "code",
   "execution_count": 89,
   "metadata": {},
   "outputs": [
    {
     "name": "stdout",
     "output_type": "stream",
     "text": [
      "The number of All NBA Team players that are in the top 10 are 6\n"
     ]
    }
   ],
   "source": [
    "#Sort Values by USG%\n",
    "USG = new_data.sort_values(by=['USG%'], ascending=False).head(10)\n",
    "USG_new = USG[USG['All_NBA_Team'] == 1].shape[0]\n",
    "print('The number of All NBA Team players that are in the top 10 are ' + str(USG_new))"
   ]
  },
  {
   "cell_type": "code",
   "execution_count": 90,
   "metadata": {},
   "outputs": [
    {
     "name": "stdout",
     "output_type": "stream",
     "text": [
      "The number of All NBA Team players that are in the top 10 are 8\n"
     ]
    }
   ],
   "source": [
    "#Sort Values by WS\n",
    "WS = new_data.sort_values(by=['WS'], ascending=False).head(10)\n",
    "WS_new = WS[WS['All_NBA_Team'] == 1].shape[0]\n",
    "print('The number of All NBA Team players that are in the top 10 are ' + str(WS_new))"
   ]
  },
  {
   "cell_type": "code",
   "execution_count": 91,
   "metadata": {},
   "outputs": [
    {
     "name": "stdout",
     "output_type": "stream",
     "text": [
      "The number of All NBA Team players that are in the top 10 are 7\n"
     ]
    }
   ],
   "source": [
    "#Sort Values by BPM\n",
    "BPM = new_data.sort_values(by=['BPM'], ascending=False).head(10)\n",
    "BPM_new = BPM[BPM['All_NBA_Team'] == 1].shape[0]\n",
    "print('The number of All NBA Team players that are in the top 10 are ' + str(BPM_new))"
   ]
  },
  {
   "cell_type": "code",
   "execution_count": 92,
   "metadata": {},
   "outputs": [
    {
     "name": "stdout",
     "output_type": "stream",
     "text": [
      "The number of All NBA Team players that are in the top 10 are 9\n"
     ]
    }
   ],
   "source": [
    "#Sort Values by VOR\n",
    "VOR = new_data.sort_values(by=['VOR'], ascending=False).head(10)\n",
    "VOR_new = VOR[VOR['All_NBA_Team'] == 1].shape[0]\n",
    "print('The number of All NBA Team players that are in the top 10 are ' + str(VOR_new))"
   ]
  },
  {
   "cell_type": "markdown",
   "metadata": {},
   "source": [
    "### PER and VOR are the NBA stats that show the most All_NBA Team"
   ]
  },
  {
   "cell_type": "markdown",
   "metadata": {},
   "source": [
    "## Linear Regression model"
   ]
  },
  {
   "cell_type": "code",
   "execution_count": 130,
   "metadata": {},
   "outputs": [],
   "source": [
    "# Choose predictive features (independent variables)\n",
    "dfX = new_data[['USG%', 'WS', 'BPM', 'VOR', 'PER']]\n",
    "\n",
    "# Choose target variable\n",
    "dfY = new_data['All_NBA_Team']"
   ]
  },
  {
   "cell_type": "code",
   "execution_count": 131,
   "metadata": {},
   "outputs": [],
   "source": [
    "from sklearn.model_selection import train_test_split\n",
    "\n",
    "X_train, X_test, Y_train, Y_test = train_test_split(dfX, dfY, test_size=0.33, random_state=0)"
   ]
  },
  {
   "cell_type": "code",
   "execution_count": 132,
   "metadata": {},
   "outputs": [
    {
     "data": {
      "text/plain": [
       "LinearRegression(copy_X=True, fit_intercept=True, n_jobs=None, normalize=False)"
      ]
     },
     "execution_count": 132,
     "metadata": {},
     "output_type": "execute_result"
    }
   ],
   "source": [
    "# Create linear regression! (Yay!)\n",
    "\n",
    "from sklearn.linear_model import LinearRegression\n",
    "\n",
    "# Create regressor object\n",
    "linearRegression2 = LinearRegression()\n",
    "\n",
    "# Fit data\n",
    "linearRegression2.fit(X_train, Y_train)"
   ]
  },
  {
   "cell_type": "code",
   "execution_count": 133,
   "metadata": {},
   "outputs": [
    {
     "data": {
      "image/png": "[encoded data removed]",
      "text/plain": [
       "<Figure size 432x288 with 1 Axes>"
      ]
     },
     "metadata": {
      "needs_background": "light"
     },
     "output_type": "display_data"
    }
   ],
   "source": [
    "Y_predicted = linearRegression2.predict(X_test)\n",
    "\n",
    "Residuals = Y_test - Y_predicted\n",
    "plt.hist(Residuals)\n",
    "plt.show()\n",
    "#The Residuals look almost normal distributed"
   ]
  },
  {
   "cell_type": "code",
   "execution_count": 134,
   "metadata": {},
   "outputs": [
    {
     "data": {
      "image/png": "[encoded data removed]",
      "text/plain": [
       "<Figure size 432x288 with 1 Axes>"
      ]
     },
     "metadata": {
      "needs_background": "light"
     },
     "output_type": "display_data"
    }
   ],
   "source": [
    "plt.scatter(Y_test, Y_predicted, alpha=0.4)\n",
    "plt.xlabel('Real Data')\n",
    "plt.ylabel('Predicted Data')\n",
    "plt.show()"
   ]
  },
  {
   "cell_type": "code",
   "execution_count": 135,
   "metadata": {},
   "outputs": [
    {
     "name": "stdout",
     "output_type": "stream",
     "text": [
      "R^2: 0.45010975001137454\n",
      "The R^2 is high and is a good evidence that this model is a good predictor\n"
     ]
    }
   ],
   "source": [
    "DiffSumResiduals = (Y_predicted - np.mean(Y_test))**2\n",
    "DiffSumActual = (Y_test - np.mean(Y_test))**2\n",
    "rSquared2 = DiffSumResiduals.sum()/DiffSumActual.sum()\n",
    "\n",
    "print('R^2:', str(rSquared2))\n",
    "print('The R^2 is high and is a good evidence that this model is a good predictor')"
   ]
  },
  {
   "cell_type": "markdown",
   "metadata": {},
   "source": [
    "## Logistics Regression"
   ]
  },
  {
   "cell_type": "code",
   "execution_count": 112,
   "metadata": {},
   "outputs": [],
   "source": [
    "#Predictive Variables\n",
    "dfM = new_data[['USG%', 'WS', 'BPM', 'VOR','PER']]\n",
    "dfN = new_data['All_NBA_Team']"
   ]
  },
  {
   "cell_type": "code",
   "execution_count": 113,
   "metadata": {},
   "outputs": [],
   "source": [
    "# Import module for cross validation\n",
    "from sklearn.model_selection import train_test_split\n",
    "\n",
    "# Break the data\n",
    "M_train, M_test, N_train, N_test = train_test_split(dfM, dfN, test_size=0.33, random_state=0)"
   ]
  },
  {
   "cell_type": "code",
   "execution_count": 114,
   "metadata": {},
   "outputs": [
    {
     "name": "stderr",
     "output_type": "stream",
     "text": [
      "/Users/abdirahmanali/opt/anaconda3/lib/python3.7/site-packages/numpy/core/fromnumeric.py:2495: FutureWarning: Method .ptp is deprecated and will be removed in a future version. Use numpy.ptp instead.\n",
      "  return ptp(axis=axis, out=out, **kwargs)\n"
     ]
    },
    {
     "data": {
      "text/html": [
       "<div>\n",
       "<style scoped>\n",
       "    .dataframe tbody tr th:only-of-type {\n",
       "        vertical-align: middle;\n",
       "    }\n",
       "\n",
       "    .dataframe tbody tr th {\n",
       "        vertical-align: top;\n",
       "    }\n",
       "\n",
       "    .dataframe thead th {\n",
       "        text-align: right;\n",
       "    }\n",
       "</style>\n",
       "<table border=\"1\" class=\"dataframe\">\n",
       "  <thead>\n",
       "    <tr style=\"text-align: right;\">\n",
       "      <th></th>\n",
       "      <th>0</th>\n",
       "    </tr>\n",
       "  </thead>\n",
       "  <tbody>\n",
       "    <tr>\n",
       "      <td>const</td>\n",
       "      <td>48.800338</td>\n",
       "    </tr>\n",
       "    <tr>\n",
       "      <td>USG%</td>\n",
       "      <td>2.916640</td>\n",
       "    </tr>\n",
       "    <tr>\n",
       "      <td>WS</td>\n",
       "      <td>9.749135</td>\n",
       "    </tr>\n",
       "    <tr>\n",
       "      <td>BPM</td>\n",
       "      <td>14.515755</td>\n",
       "    </tr>\n",
       "    <tr>\n",
       "      <td>VOR</td>\n",
       "      <td>20.584347</td>\n",
       "    </tr>\n",
       "    <tr>\n",
       "      <td>PER</td>\n",
       "      <td>8.796675</td>\n",
       "    </tr>\n",
       "  </tbody>\n",
       "</table>\n",
       "</div>"
      ],
      "text/plain": [
       "               0\n",
       "const  48.800338\n",
       "USG%    2.916640\n",
       "WS      9.749135\n",
       "BPM    14.515755\n",
       "VOR    20.584347\n",
       "PER     8.796675"
      ]
     },
     "execution_count": 114,
     "metadata": {},
     "output_type": "execute_result"
    }
   ],
   "source": [
    "from statsmodels.tools.tools import add_constant\n",
    "from statsmodels.stats.outliers_influence import variance_inflation_factor\n",
    "\n",
    "dfVIF = add_constant(dfM)\n",
    "pd.DataFrame([variance_inflation_factor(dfVIF.values, i) for i in range(dfVIF.shape[1])], index=dfVIF.columns)"
   ]
  },
  {
   "cell_type": "code",
   "execution_count": 115,
   "metadata": {},
   "outputs": [
    {
     "name": "stderr",
     "output_type": "stream",
     "text": [
      "/Users/abdirahmanali/opt/anaconda3/lib/python3.7/site-packages/sklearn/linear_model/logistic.py:432: FutureWarning: Default solver will be changed to 'lbfgs' in 0.22. Specify a solver to silence this warning.\n",
      "  FutureWarning)\n"
     ]
    },
    {
     "data": {
      "text/plain": [
       "LogisticRegression(C=1.0, class_weight=None, dual=False, fit_intercept=True,\n",
       "                   intercept_scaling=1, l1_ratio=None, max_iter=100,\n",
       "                   multi_class='warn', n_jobs=None, penalty='l2',\n",
       "                   random_state=None, solver='warn', tol=0.0001, verbose=0,\n",
       "                   warm_start=False)"
      ]
     },
     "execution_count": 115,
     "metadata": {},
     "output_type": "execute_result"
    }
   ],
   "source": [
    "# Logistic Regression!\n",
    "\n",
    "from sklearn.linear_model import LogisticRegression\n",
    "from sklearn.model_selection import train_test_split\n",
    "\n",
    "# Break the data into training and testing set\n",
    "M_train, M_test, N_train, N_test = train_test_split(dfM, dfN, test_size=0.33, random_state=0)\n",
    "\n",
    "# Create logistic regression variable\n",
    "logreg = LogisticRegression()\n",
    "\n",
    "# Fit data!\n",
    "logreg.fit(M_train, N_train)"
   ]
  },
  {
   "cell_type": "code",
   "execution_count": 116,
   "metadata": {},
   "outputs": [],
   "source": [
    "#Logistic Regression Model\n",
    "N_predicted = logreg.predict(M_test)"
   ]
  },
  {
   "cell_type": "code",
   "execution_count": 117,
   "metadata": {},
   "outputs": [
    {
     "name": "stderr",
     "output_type": "stream",
     "text": [
      "/Users/abdirahmanali/opt/anaconda3/lib/python3.7/site-packages/sklearn/linear_model/logistic.py:432: FutureWarning: Default solver will be changed to 'lbfgs' in 0.22. Specify a solver to silence this warning.\n",
      "  FutureWarning)\n",
      "/Users/abdirahmanali/opt/anaconda3/lib/python3.7/site-packages/sklearn/linear_model/logistic.py:432: FutureWarning: Default solver will be changed to 'lbfgs' in 0.22. Specify a solver to silence this warning.\n",
      "  FutureWarning)\n",
      "/Users/abdirahmanali/opt/anaconda3/lib/python3.7/site-packages/sklearn/linear_model/logistic.py:432: FutureWarning: Default solver will be changed to 'lbfgs' in 0.22. Specify a solver to silence this warning.\n",
      "  FutureWarning)\n",
      "/Users/abdirahmanali/opt/anaconda3/lib/python3.7/site-packages/sklearn/linear_model/logistic.py:432: FutureWarning: Default solver will be changed to 'lbfgs' in 0.22. Specify a solver to silence this warning.\n",
      "  FutureWarning)\n",
      "/Users/abdirahmanali/opt/anaconda3/lib/python3.7/site-packages/sklearn/linear_model/logistic.py:432: FutureWarning: Default solver will be changed to 'lbfgs' in 0.22. Specify a solver to silence this warning.\n",
      "  FutureWarning)\n"
     ]
    },
    {
     "data": {
      "text/plain": [
       "0.9714285714285713"
      ]
     },
     "execution_count": 117,
     "metadata": {},
     "output_type": "execute_result"
    }
   ],
   "source": [
    "#K-Fold Test - Logistic Regression\n",
    "from sklearn import model_selection\n",
    "from sklearn.model_selection import cross_val_score\n",
    "\n",
    "kfold = model_selection.KFold(n_splits=5, random_state=0)\n",
    "modelCV = LogisticRegression()\n",
    "scoring = 'accuracy'\n",
    "results = model_selection.cross_val_score(modelCV, M_train, N_train, cv=kfold, scoring=scoring)\n",
    "\n",
    "# Mean accuracy - Logistics Regression\n",
    "results.mean()"
   ]
  },
  {
   "cell_type": "markdown",
   "metadata": {},
   "source": [
    "## Decision Tree"
   ]
  },
  {
   "cell_type": "code",
   "execution_count": 118,
   "metadata": {},
   "outputs": [
    {
     "data": {
      "text/plain": [
       "DecisionTreeClassifier(class_weight=None, criterion='gini', max_depth=None,\n",
       "                       max_features=None, max_leaf_nodes=None,\n",
       "                       min_impurity_decrease=0.0, min_impurity_split=None,\n",
       "                       min_samples_leaf=1, min_samples_split=5,\n",
       "                       min_weight_fraction_leaf=0.0, presort=False,\n",
       "                       random_state=None, splitter='best')"
      ]
     },
     "execution_count": 118,
     "metadata": {},
     "output_type": "execute_result"
    }
   ],
   "source": [
    "from sklearn.tree import DecisionTreeClassifier\n",
    "tree = DecisionTreeClassifier(min_samples_split=5)\n",
    "tree.fit(M_train, N_train)"
   ]
  },
  {
   "cell_type": "code",
   "execution_count": 119,
   "metadata": {},
   "outputs": [
    {
     "data": {
      "text/plain": [
       "array([0, 0, 1, 0, 0, 0, 0, 0, 0, 0, 0, 0, 0, 0, 0, 0, 0, 0, 0, 0, 0, 0,\n",
       "       0, 0, 0, 0, 0, 0, 0, 0, 0, 0, 0, 1, 0, 0, 0, 0, 0, 0, 0, 0, 0, 0,\n",
       "       0, 0, 0, 0, 0, 0, 0, 0, 0, 0, 0, 0, 0, 0, 0, 0, 0, 0, 0, 0, 0, 0,\n",
       "       1, 0, 0, 0, 0, 0, 0, 0, 0, 0, 0, 0, 0, 0, 0, 1, 0, 0, 0, 0, 0, 0,\n",
       "       0, 0, 0, 0, 0, 0, 0, 0, 0, 0, 0, 0, 0, 0, 0])"
      ]
     },
     "execution_count": 119,
     "metadata": {},
     "output_type": "execute_result"
    }
   ],
   "source": [
    "#Decision Tree Model\n",
    "decisiontree = tree.predict(M_test)\n",
    "decisiontree"
   ]
  },
  {
   "cell_type": "code",
   "execution_count": 120,
   "metadata": {},
   "outputs": [
    {
     "name": "stdout",
     "output_type": "stream",
     "text": [
      "              precision    recall  f1-score   support\n",
      "\n",
      "           0       0.96      0.97      0.96        98\n",
      "           1       0.25      0.20      0.22         5\n",
      "\n",
      "    accuracy                           0.93       103\n",
      "   macro avg       0.60      0.58      0.59       103\n",
      "weighted avg       0.93      0.93      0.93       103\n",
      "\n"
     ]
    }
   ],
   "source": [
    "# Classification report\n",
    "from sklearn.metrics import classification_report\n",
    "\n",
    "print(classification_report(N_test, decisiontree))"
   ]
  },
  {
   "cell_type": "code",
   "execution_count": 121,
   "metadata": {},
   "outputs": [],
   "source": [
    "from sklearn.tree import export_graphviz\n",
    "export_graphviz(tree, out_file=\"mytree.dot\", feature_names=M_train.columns)"
   ]
  },
  {
   "cell_type": "code",
   "execution_count": 122,
   "metadata": {},
   "outputs": [
    {
     "data": {
      "text/plain": [
       "0.9664343786295007"
      ]
     },
     "execution_count": 122,
     "metadata": {},
     "output_type": "execute_result"
    }
   ],
   "source": [
    "# K-Fold test - Decision Tree\n",
    "from sklearn import model_selection\n",
    "from sklearn.model_selection import cross_val_score\n",
    "\n",
    "kfold = model_selection.KFold(n_splits=5, random_state=0)\n",
    "modelCV = DecisionTreeClassifier(min_samples_split=5)\n",
    "scoring = 'accuracy'\n",
    "results = model_selection.cross_val_score(modelCV, M_train, N_train, cv=kfold, scoring=scoring)\n",
    "\n",
    "# Mean accuracy - Decision Trees\n",
    "results.mean()"
   ]
  },
  {
   "cell_type": "markdown",
   "metadata": {},
   "source": [
    "## Random Forest"
   ]
  },
  {
   "cell_type": "code",
   "execution_count": 123,
   "metadata": {},
   "outputs": [
    {
     "data": {
      "text/plain": [
       "RandomForestClassifier(bootstrap=True, class_weight=None, criterion='gini',\n",
       "                       max_depth=None, max_features='auto', max_leaf_nodes=None,\n",
       "                       min_impurity_decrease=0.0, min_impurity_split=None,\n",
       "                       min_samples_leaf=1, min_samples_split=5,\n",
       "                       min_weight_fraction_leaf=0.0, n_estimators=300,\n",
       "                       n_jobs=None, oob_score=False, random_state=None,\n",
       "                       verbose=0, warm_start=False)"
      ]
     },
     "execution_count": 123,
     "metadata": {},
     "output_type": "execute_result"
    }
   ],
   "source": [
    "#Random Forest\n",
    "from sklearn.ensemble import RandomForestClassifier\n",
    "randomforest = RandomForestClassifier(n_estimators = 300, min_samples_split=5)\n",
    "randomforest.fit(M_train, N_train)"
   ]
  },
  {
   "cell_type": "code",
   "execution_count": 124,
   "metadata": {},
   "outputs": [
    {
     "name": "stdout",
     "output_type": "stream",
     "text": [
      "              precision    recall  f1-score   support\n",
      "\n",
      "           0       0.96      1.00      0.98        98\n",
      "           1       1.00      0.20      0.33         5\n",
      "\n",
      "    accuracy                           0.96       103\n",
      "   macro avg       0.98      0.60      0.66       103\n",
      "weighted avg       0.96      0.96      0.95       103\n",
      "\n"
     ]
    }
   ],
   "source": [
    "#Random Forest Model\n",
    "N_predicted = randomforest.predict(M_test)\n",
    "print(classification_report(N_test, N_predicted))"
   ]
  },
  {
   "cell_type": "code",
   "execution_count": 125,
   "metadata": {},
   "outputs": [
    {
     "data": {
      "text/plain": [
       "0.9761904761904763"
      ]
     },
     "execution_count": 125,
     "metadata": {},
     "output_type": "execute_result"
    }
   ],
   "source": [
    "# K-Fold test - Random Forest Model\n",
    "from sklearn import model_selection\n",
    "from sklearn.model_selection import cross_val_score\n",
    "\n",
    "kfold = model_selection.KFold(n_splits=5, random_state=0)\n",
    "modelCV = RandomForestClassifier(n_estimators = 300, min_samples_split=5)\n",
    "scoring = 'accuracy'\n",
    "results = model_selection.cross_val_score(modelCV, M_train, N_train, cv=kfold, scoring=scoring)\n",
    "\n",
    "# Mean accuracy for Random Forest Model\n",
    "forestmodel = results.mean()\n",
    "forestmodel"
   ]
  },
  {
   "cell_type": "markdown",
   "metadata": {},
   "source": [
    "## Neural Network"
   ]
  },
  {
   "cell_type": "code",
   "execution_count": 126,
   "metadata": {},
   "outputs": [
    {
     "data": {
      "text/html": [
       "<div>\n",
       "<style scoped>\n",
       "    .dataframe tbody tr th:only-of-type {\n",
       "        vertical-align: middle;\n",
       "    }\n",
       "\n",
       "    .dataframe tbody tr th {\n",
       "        vertical-align: top;\n",
       "    }\n",
       "\n",
       "    .dataframe thead th {\n",
       "        text-align: right;\n",
       "    }\n",
       "</style>\n",
       "<table border=\"1\" class=\"dataframe\">\n",
       "  <thead>\n",
       "    <tr style=\"text-align: right;\">\n",
       "      <th></th>\n",
       "      <th>USG%</th>\n",
       "      <th>WS</th>\n",
       "      <th>BPM</th>\n",
       "      <th>VOR</th>\n",
       "      <th>PER</th>\n",
       "    </tr>\n",
       "  </thead>\n",
       "  <tbody>\n",
       "    <tr>\n",
       "      <td>0</td>\n",
       "      <td>-1.212307</td>\n",
       "      <td>-0.517606</td>\n",
       "      <td>-0.486618</td>\n",
       "      <td>-0.583603</td>\n",
       "      <td>-1.215237</td>\n",
       "    </tr>\n",
       "    <tr>\n",
       "      <td>1</td>\n",
       "      <td>-0.890255</td>\n",
       "      <td>-0.945308</td>\n",
       "      <td>-0.864198</td>\n",
       "      <td>-0.791225</td>\n",
       "      <td>-1.389571</td>\n",
       "    </tr>\n",
       "    <tr>\n",
       "      <td>2</td>\n",
       "      <td>-0.454539</td>\n",
       "      <td>2.155530</td>\n",
       "      <td>0.495090</td>\n",
       "      <td>0.731334</td>\n",
       "      <td>1.312601</td>\n",
       "    </tr>\n",
       "    <tr>\n",
       "      <td>3</td>\n",
       "      <td>-0.606093</td>\n",
       "      <td>0.195230</td>\n",
       "      <td>-0.071280</td>\n",
       "      <td>-0.237567</td>\n",
       "      <td>0.244808</td>\n",
       "    </tr>\n",
       "    <tr>\n",
       "      <td>4</td>\n",
       "      <td>-1.250195</td>\n",
       "      <td>-1.266084</td>\n",
       "      <td>-1.959180</td>\n",
       "      <td>-1.068054</td>\n",
       "      <td>-1.912572</td>\n",
       "    </tr>\n",
       "  </tbody>\n",
       "</table>\n",
       "</div>"
      ],
      "text/plain": [
       "       USG%        WS       BPM       VOR       PER\n",
       "0 -1.212307 -0.517606 -0.486618 -0.583603 -1.215237\n",
       "1 -0.890255 -0.945308 -0.864198 -0.791225 -1.389571\n",
       "2 -0.454539  2.155530  0.495090  0.731334  1.312601\n",
       "3 -0.606093  0.195230 -0.071280 -0.237567  0.244808\n",
       "4 -1.250195 -1.266084 -1.959180 -1.068054 -1.912572"
      ]
     },
     "execution_count": 126,
     "metadata": {},
     "output_type": "execute_result"
    }
   ],
   "source": [
    "# Scale features (really important for neural networks!)\n",
    "from sklearn.preprocessing import StandardScaler\n",
    "\n",
    "scaler = StandardScaler()\n",
    "scaler.fit(dfM)\n",
    "\n",
    "# Scale X values\n",
    "scaled_features = scaler.transform(dfM)\n",
    "dfScaledX = pd.DataFrame(scaled_features, columns=dfM.columns)\n",
    "dfScaledX.head()"
   ]
  },
  {
   "cell_type": "code",
   "execution_count": 127,
   "metadata": {},
   "outputs": [],
   "source": [
    "# Split the data between training and testing set\n",
    "from sklearn.model_selection import train_test_split\n",
    "X2_train, X2_test, Y2_train, Y2_test = train_test_split(dfScaledX, dfN, test_size=0.33, random_state=0)"
   ]
  },
  {
   "cell_type": "code",
   "execution_count": 128,
   "metadata": {},
   "outputs": [
    {
     "data": {
      "text/plain": [
       "MLPClassifier(activation='relu', alpha=1e-05, batch_size='auto', beta_1=0.9,\n",
       "              beta_2=0.999, early_stopping=False, epsilon=1e-08,\n",
       "              hidden_layer_sizes=(5, 2), learning_rate='constant',\n",
       "              learning_rate_init=0.001, max_iter=200, momentum=0.9,\n",
       "              n_iter_no_change=10, nesterovs_momentum=True, power_t=0.5,\n",
       "              random_state=0, shuffle=True, solver='lbfgs', tol=0.0001,\n",
       "              validation_fraction=0.1, verbose=False, warm_start=False)"
      ]
     },
     "execution_count": 128,
     "metadata": {},
     "output_type": "execute_result"
    }
   ],
   "source": [
    "# Create neural network classifier and fit the data!\n",
    "\n",
    "from sklearn.neural_network import MLPClassifier\n",
    "\n",
    "clf = MLPClassifier(solver='lbfgs', alpha=1e-5, hidden_layer_sizes=(5, 2), random_state=0)\n",
    "clf.fit(X2_train, Y2_train)"
   ]
  },
  {
   "cell_type": "code",
   "execution_count": 129,
   "metadata": {},
   "outputs": [
    {
     "data": {
      "text/plain": [
       "0.9514563106796117"
      ]
     },
     "execution_count": 129,
     "metadata": {},
     "output_type": "execute_result"
    }
   ],
   "source": [
    "# Create prediction table on the test set\n",
    "Y2_predicted = clf.predict(X2_test)\n",
    "clf.score(X2_test, Y2_test)"
   ]
  },
  {
   "cell_type": "code",
   "execution_count": null,
   "metadata": {},
   "outputs": [],
   "source": []
  }
 ],
 "metadata": {
  "kernelspec": {
   "display_name": "Python 3",
   "language": "python",
   "name": "python3"
  },
  "language_info": {
   "codemirror_mode": {
    "name": "ipython",
    "version": 3
   },
   "file_extension": ".py",
   "mimetype": "text/x-python",
   "name": "python",
   "nbconvert_exporter": "python",
   "pygments_lexer": "ipython3",
   "version": "3.7.4"
  }
 },
 "nbformat": 4,
 "nbformat_minor": 2
}
